{
  "nbformat": 4,
  "nbformat_minor": 0,
  "metadata": {
    "colab": {
      "name": "webScraping.ipynb",
      "provenance": []
    },
    "kernelspec": {
      "name": "python3",
      "display_name": "Python 3"
    }
  },
  "cells": [
    {
      "cell_type": "markdown",
      "metadata": {
        "id": "Cb5jA8GyAQQK"
      },
      "source": [
        "WEB SCRAPING USING BEAUTIFULSOUP"
      ]
    },
    {
      "cell_type": "code",
      "metadata": {
        "id": "ekKIiJM-S689",
        "outputId": "7d7c1c2e-f4c3-4924-8a4f-01e9a877590c",
        "colab": {
          "base_uri": "https://localhost:8080/",
          "height": 34
        }
      },
      "source": [
        "from bs4 import BeautifulSoup #importing beautifulsoup\n",
        "import requests  #importing requests(which is a HTML library.)\n",
        "url = \"https://www.tutorialspoint.com/index.htm\"\n",
        "req = requests.get(url)  #here we are requesting the site\n",
        "soup = BeautifulSoup(req.text, \"html.parser\")\n",
        "print(soup.title) "
      ],
      "execution_count": 1,
      "outputs": [
        {
          "output_type": "stream",
          "text": [
            "<title>RxJS, ggplot2, Python Data Persistence, Caffe2, PyBrain, Python Data Access, H2O, Colab, Theano, Flutter, KNime, Mean.js, Weka, Solidity</title>\n"
          ],
          "name": "stdout"
        }
      ]
    },
    {
      "cell_type": "markdown",
      "metadata": {
        "id": "36zjqk1xBJ7r"
      },
      "source": [
        "string method"
      ]
    },
    {
      "cell_type": "code",
      "metadata": {
        "id": "m8fzoFntAYAz",
        "outputId": "a9970f61-aae2-4609-9d1b-33d7cb519b06",
        "colab": {
          "base_uri": "https://localhost:8080/",
          "height": 1000
        }
      },
      "source": [
        "for link in soup.find_all('a'):\n",
        "  print(link.get('href'))"
      ],
      "execution_count": 3,
      "outputs": [
        {
          "output_type": "stream",
          "text": [
            "https://www.tutorialspoint.com/index.htm\n",
            "https://www.tutorialspoint.com/about/about_careers.htm\n",
            "https://www.tutorialspoint.com/questions/index.php\n",
            "https://www.tutorialspoint.com/online_dev_tools.htm\n",
            "https://www.tutorialspoint.com/codingground.htm\n",
            "https://www.tutorialspoint.com/current_affairs.htm\n",
            "https://www.tutorialspoint.com/upsc_ias_exams.htm\n",
            "https://www.tutorialspoint.com/tutor_connect/index.php\n",
            "https://www.tutorialspoint.com/whiteboard.htm\n",
            "https://www.tutorialspoint.com/netmeeting.php\n",
            "https://www.tutorix.com\n",
            "https://www.tutorialspoint.com/index.htm\n",
            "https://www.tutorialspoint.com/tutorialslibrary.htm\n",
            "https://www.tutorialspoint.com/videotutorials/index.php\n",
            "https://store.tutorialspoint.com\n",
            "https://www.tutorialspoint.com/gate_exams_tutorials.htm\n",
            "videotutorials/subscription.php\n",
            "https://www.tutorialspoint.com/videotutorials/latest-courses.php\n",
            "None\n",
            "None\n",
            "None\n",
            "None\n",
            "None\n",
            "None\n",
            "None\n",
            "https://www.tutorialspoint.com/mastering_dax_and_data_models_in_power_bi_desktop/index.asp\n",
            "https://www.tutorialspoint.com/videotutorials/profile/abhay_gadiya\n",
            "https://www.tutorialspoint.com/videotutorials/view_cart.php?cart_key=900\n",
            "https://www.tutorialspoint.com/build_excel_models_using_advanced_formulas_vba_power_query/index.asp\n",
            "https://www.tutorialspoint.com/videotutorials/profile/prashant_panchal\n",
            "https://www.tutorialspoint.com/videotutorials/view_cart.php?cart_key=907\n",
            "https://www.tutorialspoint.com/excel_power_query_training_beginners_to_advanced_level/index.asp\n",
            "https://www.tutorialspoint.com/videotutorials/profile/abhay_gadiya\n",
            "https://www.tutorialspoint.com/videotutorials/view_cart.php?cart_key=891\n",
            "https://www.tutorialspoint.com/quick_excel_for_financial_modeling/index.asp\n",
            "https://www.tutorialspoint.com/videotutorials/profile/blair_cook\n",
            "https://www.tutorialspoint.com/videotutorials/view_cart.php?cart_key=834\n",
            "https://www.tutorialspoint.com/advanced_microsoft_word_2013_tutorial/index.asp\n",
            "https://www.tutorialspoint.com/videotutorials/profile/syed_raza\n",
            "https://www.tutorialspoint.com/videotutorials/view_cart.php?cart_key=829\n",
            "https://www.tutorialspoint.com/advance_excel_power_query_troubleshooting_case_studies_custom_m_function_with_m_language/index.asp\n",
            "https://www.tutorialspoint.com/videotutorials/profile/abhay_gadiya\n",
            "https://www.tutorialspoint.com/videotutorials/view_cart.php?cart_key=1050\n",
            "https://www.tutorialspoint.com/videotutorials/latest-courses.php\n",
            "https://www.tutorialspoint.com/videotutorials/top-courses.php\n",
            "None\n",
            "None\n",
            "None\n",
            "None\n",
            "None\n",
            "None\n",
            "None\n",
            "https://www.tutorialspoint.com/ms_excel_online_training/index.asp\n",
            "https://www.tutorialspoint.com/videotutorials/profile/tutorialspoint_com\n",
            "https://www.tutorialspoint.com/videotutorials/view_cart.php?cart_key=42\n",
            "https://www.tutorialspoint.com/excel_vba_online_training/index.asp\n",
            "https://www.tutorialspoint.com/videotutorials/profile/tutorialspoint_com\n",
            "https://www.tutorialspoint.com/videotutorials/view_cart.php?cart_key=157\n",
            "https://www.tutorialspoint.com/advanced_excel_power_query_online_training/index.asp\n",
            "https://www.tutorialspoint.com/videotutorials/profile/tutorialspoint_com\n",
            "https://www.tutorialspoint.com/videotutorials/view_cart.php?cart_key=434\n",
            "https://www.tutorialspoint.com/sap_abap_online_training/index.asp\n",
            "https://www.tutorialspoint.com/videotutorials/profile/tutorialspoint_com\n",
            "https://www.tutorialspoint.com/videotutorials/view_cart.php?cart_key=174\n",
            "https://www.tutorialspoint.com/sap_c4c_online_training/index.asp\n",
            "https://www.tutorialspoint.com/videotutorials/profile/tutorialspoint_com\n",
            "https://www.tutorialspoint.com/videotutorials/view_cart.php?cart_key=74\n",
            "https://www.tutorialspoint.com/sap_mm_online_training/index.asp\n",
            "https://www.tutorialspoint.com/videotutorials/profile/tutorialspoint_com\n",
            "https://www.tutorialspoint.com/videotutorials/view_cart.php?cart_key=158\n",
            "https://www.tutorialspoint.com/videotutorials/top-courses.php\n",
            "https://www.tutorialspoint.com/videotutorials/featured-courses.php\n",
            "None\n",
            "None\n",
            "None\n",
            "None\n",
            "None\n",
            "None\n",
            "None\n",
            "https://www.tutorialspoint.com/mastering_microsoft_power_bi/index.asp\n",
            "https://www.tutorialspoint.com/videotutorials/profile/tutorialspoint_com\n",
            "https://www.tutorialspoint.com/videotutorials/view_cart.php?cart_key=997\n",
            "https://www.tutorialspoint.com/microsoft_azure_tutorials_step_by_step/index.asp\n",
            "https://www.tutorialspoint.com/videotutorials/profile/shivprasad_koirala\n",
            "https://www.tutorialspoint.com/videotutorials/view_cart.php?cart_key=525\n",
            "https://www.tutorialspoint.com/zero_to_hero_in_microsoft_excel_complete_excel_guide_2019/index.asp\n",
            "https://www.tutorialspoint.com/videotutorials/profile/abhishek_and_pukhraj-14426528\n",
            "https://www.tutorialspoint.com/videotutorials/view_cart.php?cart_key=699\n",
            "https://www.tutorialspoint.com/advanced_excel_crash_course/index.asp\n",
            "https://www.tutorialspoint.com/videotutorials/profile/yodalearning\n",
            "https://www.tutorialspoint.com/videotutorials/view_cart.php?cart_key=599\n",
            "https://www.tutorialspoint.com/microsoft_excel_masterclass_for_business_managers/index.asp\n",
            "https://www.tutorialspoint.com/videotutorials/profile/abhishek_and_pukhraj-14426528\n",
            "https://www.tutorialspoint.com/videotutorials/view_cart.php?cart_key=606\n",
            "https://www.tutorialspoint.com/excel_dashboard_crash_course/index.asp\n",
            "https://www.tutorialspoint.com/videotutorials/profile/yodalearning\n",
            "https://www.tutorialspoint.com/videotutorials/view_cart.php?cart_key=589\n",
            "https://www.tutorialspoint.com/videotutorials/featured-courses.php\n",
            "https://www.tutorialspoint.com/videotutorials/index.php\n",
            "https://www.tutorialspoint.com/videotutorials/profile/prof_paul_cline_ed_d\n",
            "https://www.tutorialspoint.com/videotutorials/profile/blair_cook\n",
            "https://www.tutorialspoint.com/videotutorials/profile/syed_raza\n",
            "https://www.tutorialspoint.com/videotutorials/profile/abhilash_nelson\n",
            "https://www.tutorialspoint.com/videotutorials/profile/frahaan_hussain\n",
            "https://www.tutorialspoint.com/videotutorials/profile/digifisk_programming_is_fun\n",
            "https://www.tutorialspoint.com/videotutorials/profile/Pavan-Lalwani\n",
            "https://www.tutorialspoint.com/videotutorials/profile/eduonix_learning_solutions\n",
            "https://www.tutorialspoint.com/videotutorials/profile/lets_kode_it\n",
            "https://www.tutorialspoint.com/videotutorials/profile/senol_atac\n",
            "https://www.tutorialspoint.com/videotutorials/profile/inf_sid\n",
            "https://www.tutorialspoint.com/tutorialslibrary.htm\n",
            "https://www.tutorialspoint.com/bitcoin/index.htm\n",
            "https://www.tutorialspoint.com/blockchain/index.htm\n",
            "https://www.tutorialspoint.com/blue_prism/index.htm\n",
            "https://www.tutorialspoint.com/ethereum/index.htm\n",
            "https://www.tutorialspoint.com/openshift/index.htm\n",
            "https://www.tutorialspoint.com/python_blockchain/index.htm\n",
            "https://www.tutorialspoint.com/latest_technologies.htm\n",
            "https://www.tutorialspoint.com/machine_learning/index.htm\n",
            "https://www.tutorialspoint.com/tensorflow/index.htm\n",
            "https://www.tutorialspoint.com/machine_learning_with_python/index.htm\n",
            "https://www.tutorialspoint.com/artificial_intelligence_with_python/index.htm\n",
            "https://www.tutorialspoint.com/time_series/index.htm\n",
            "https://www.tutorialspoint.com/pytorch/index.htm\n",
            "https://www.tutorialspoint.com/machine_learning_tutorials.htm\n",
            "https://www.tutorialspoint.com/computer_fundamentals/index.htm\n",
            "https://www.tutorialspoint.com/compiler_design/index.htm\n",
            "https://www.tutorialspoint.com/operating_system/index.htm\n",
            "https://www.tutorialspoint.com/data_structures_algorithms/index.htm\n",
            "https://www.tutorialspoint.com/dbms/index.htm\n",
            "https://www.tutorialspoint.com/data_communication_computer_network/index.htm\n",
            "https://www.tutorialspoint.com/computer_science_tutorials.htm\n",
            "https://www.tutorialspoint.com/html/index.htm\n",
            "https://www.tutorialspoint.com/css/index.htm\n",
            "https://www.tutorialspoint.com/javascript/index.htm\n",
            "https://www.tutorialspoint.com/php/index.htm\n",
            "https://www.tutorialspoint.com/angular4/index.htm\n",
            "https://www.tutorialspoint.com/mysql/index.htm\n",
            "https://www.tutorialspoint.com/web_development_tutorials.htm\n",
            "https://www.tutorialspoint.com/cprogramming/index.htm\n",
            "https://www.tutorialspoint.com/cplusplus/index.htm\n",
            "https://www.tutorialspoint.com/java8/index.htm\n",
            "https://www.tutorialspoint.com/python/index.htm\n",
            "https://www.tutorialspoint.com/scala/index.htm\n",
            "https://www.tutorialspoint.com/csharp/index.htm\n",
            "https://www.tutorialspoint.com/computer_programming_tutorials.htm\n",
            "https://www.tutorialspoint.com/java8/index.htm\n",
            "https://www.tutorialspoint.com/jdbc/index.htm\n",
            "https://www.tutorialspoint.com/servlets/index.htm\n",
            "https://www.tutorialspoint.com/spring/index.htm\n",
            "https://www.tutorialspoint.com/hibernate/index.htm\n",
            "https://www.tutorialspoint.com/swing/index.htm\n",
            "https://www.tutorialspoint.com/java_technology_tutorials.htm\n",
            "https://www.tutorialspoint.com/android/index.htm\n",
            "https://www.tutorialspoint.com/swift/index.htm\n",
            "https://www.tutorialspoint.com/ios/index.htm\n",
            "https://www.tutorialspoint.com/kotlin/index.htm\n",
            "https://www.tutorialspoint.com/react_native/index.htm\n",
            "https://www.tutorialspoint.com/xamarin/index.htm\n",
            "https://www.tutorialspoint.com/mobile_development_tutorials.htm\n",
            "https://www.tutorialspoint.com/mongodb/index.htm\n",
            "https://www.tutorialspoint.com/plsql/index.htm\n",
            "https://www.tutorialspoint.com/sql/index.htm\n",
            "https://www.tutorialspoint.com/db2/index.htm\n",
            "https://www.tutorialspoint.com/mysql/index.htm\n",
            "https://www.tutorialspoint.com/memcached/index.htm\n",
            "https://www.tutorialspoint.com/database_tutorials.htm\n",
            "https://www.tutorialspoint.com/asp.net/index.htm\n",
            "https://www.tutorialspoint.com/entity_framework/index.htm\n",
            "https://www.tutorialspoint.com/vb.net/index.htm\n",
            "https://www.tutorialspoint.com/ms_project/index.htm\n",
            "https://www.tutorialspoint.com/excel/index.htm\n",
            "https://www.tutorialspoint.com/word/index.htm\n",
            "https://www.tutorialspoint.com/microsoft_technologies_tutorials.htm\n",
            "https://www.tutorialspoint.com/big_data_analytics/index.htm\n",
            "https://www.tutorialspoint.com/hadoop/index.htm\n",
            "https://www.tutorialspoint.com/sas/index.htm\n",
            "https://www.tutorialspoint.com/qlikview/index.htm\n",
            "https://www.tutorialspoint.com/power_bi/index.htm\n",
            "https://www.tutorialspoint.com/tableau/index.htm\n",
            "https://www.tutorialspoint.com/big_data_tutorials.htm\n",
            "https://www.tutorialspoint.com/tutorialslibrary.htm\n",
            "https://www.tutorialspoint.com/codingground.htm\n",
            "https://www.tutorialspoint.com/coding_platform_for_websites.htm\n",
            "https://www.tutorialspoint.com/developers_best_practices/index.htm\n",
            "https://www.tutorialspoint.com/effective_resume_writing.htm\n",
            "https://www.tutorialspoint.com/computer_glossary.htm\n",
            "https://www.tutorialspoint.com/computer_whoiswho.htm\n",
            "https://www.tutorialspoint.com/questions_and_answers.htm\n",
            "https://www.tutorialspoint.com/multi_language_tutorials.htm\n",
            "https://itunes.apple.com/us/app/tutorials-point/id914891263?ls=1&mt=8\n",
            "https://play.google.com/store/apps/details?id=com.tutorialspoint.onlineviewer\n",
            "http://www.windowsphone.com/s?appid=91249671-7184-4ad6-8a5f-d11847946b09\n",
            "/about/index.htm\n",
            "/about/about_team.htm\n",
            "/about/about_careers.htm\n",
            "/about/about_privacy.htm\n",
            "/about/about_cookies.htm\n",
            "/about/about_terms_of_use.htm\n",
            "https://www.tutorialspoint.com/online_dev_tools.htm\n",
            "https://www.tutorialspoint.com/free_web_graphics.htm\n",
            "https://www.tutorialspoint.com/online_file_conversion.htm\n",
            "https://www.tutorialspoint.com/netmeeting.php\n",
            "https://www.tutorialspoint.com/free_online_whiteboard.htm\n",
            "http://www.tutorialspoint.com\n",
            "https://www.facebook.com/tutorialspointindia\n",
            "https://plus.google.com/u/0/+tutorialspoint\n",
            "http://www.twitter.com/tutorialspoint\n",
            "http://www.linkedin.com/company/tutorialspoint\n",
            "https://www.youtube.com/channel/UCVLbzhxVTiTLiVKeGV7WEBg\n",
            "https://www.tutorialspoint.com/index.htm\n",
            "/about/about_privacy.htm#cookies\n",
            "/about/faq.htm\n",
            "/about/about_helping.htm\n",
            "/about/contact_us.htm\n"
          ],
          "name": "stdout"
        }
      ]
    },
    {
      "cell_type": "markdown",
      "metadata": {
        "id": "JdAlC1SDBMJZ"
      },
      "source": [
        "filehandle method"
      ]
    },
    {
      "cell_type": "code",
      "metadata": {
        "id": "Y48W6AV5Aj-G",
        "outputId": "9457fbc1-4f06-4f30-d3d5-fc21c2d10ecd",
        "colab": {
          "base_uri": "https://localhost:8080/",
          "height": 220
        }
      },
      "source": [
        "from bs4 import BeautifulSoup\n",
        "with open(\"example.html\") as fp:\n",
        "   soup = BeautifulSoup(fp)\n",
        "soup = BeautifulSoup(\"<html>data</html>\")"
      ],
      "execution_count": 4,
      "outputs": [
        {
          "output_type": "error",
          "ename": "FileNotFoundError",
          "evalue": "ignored",
          "traceback": [
            "\u001b[0;31m---------------------------------------------------------------------------\u001b[0m",
            "\u001b[0;31mFileNotFoundError\u001b[0m                         Traceback (most recent call last)",
            "\u001b[0;32m<ipython-input-4-11cf6c5d1588>\u001b[0m in \u001b[0;36m<module>\u001b[0;34m()\u001b[0m\n\u001b[1;32m      1\u001b[0m \u001b[0;32mfrom\u001b[0m \u001b[0mbs4\u001b[0m \u001b[0;32mimport\u001b[0m \u001b[0mBeautifulSoup\u001b[0m\u001b[0;34m\u001b[0m\u001b[0;34m\u001b[0m\u001b[0m\n\u001b[0;32m----> 2\u001b[0;31m \u001b[0;32mwith\u001b[0m \u001b[0mopen\u001b[0m\u001b[0;34m(\u001b[0m\u001b[0;34m\"example.html\"\u001b[0m\u001b[0;34m)\u001b[0m \u001b[0;32mas\u001b[0m \u001b[0mfp\u001b[0m\u001b[0;34m:\u001b[0m\u001b[0;34m\u001b[0m\u001b[0;34m\u001b[0m\u001b[0m\n\u001b[0m\u001b[1;32m      3\u001b[0m    \u001b[0msoup\u001b[0m \u001b[0;34m=\u001b[0m \u001b[0mBeautifulSoup\u001b[0m\u001b[0;34m(\u001b[0m\u001b[0mfp\u001b[0m\u001b[0;34m)\u001b[0m\u001b[0;34m\u001b[0m\u001b[0;34m\u001b[0m\u001b[0m\n\u001b[1;32m      4\u001b[0m \u001b[0msoup\u001b[0m \u001b[0;34m=\u001b[0m \u001b[0mBeautifulSoup\u001b[0m\u001b[0;34m(\u001b[0m\u001b[0;34m\"<html>data</html>\"\u001b[0m\u001b[0;34m)\u001b[0m\u001b[0;34m\u001b[0m\u001b[0;34m\u001b[0m\u001b[0m\n",
            "\u001b[0;31mFileNotFoundError\u001b[0m: [Errno 2] No such file or directory: 'example.html'"
          ]
        }
      ]
    },
    {
      "cell_type": "code",
      "metadata": {
        "id": "47Kt_5qhBpwe",
        "outputId": "dfc97394-1f66-4c21-94a3-959b541ab5a5",
        "colab": {
          "base_uri": "https://localhost:8080/",
          "height": 34
        }
      },
      "source": [
        "import bs4\n",
        "html = '''<b>tutorialspoint</b>, <i>&web scraping &data science;</i>'''\n",
        "soup = bs4.BeautifulSoup(html, 'lxml')\n",
        "print(soup)\n"
      ],
      "execution_count": 5,
      "outputs": [
        {
          "output_type": "stream",
          "text": [
            "<html><body><b>tutorialspoint</b>, <i>&amp;web scraping &amp;data science;</i></body></html>\n"
          ],
          "name": "stdout"
        }
      ]
    },
    {
      "cell_type": "code",
      "metadata": {
        "id": "S9OSXlDPBtWk"
      },
      "source": [
        ""
      ],
      "execution_count": null,
      "outputs": []
    }
  ]
}